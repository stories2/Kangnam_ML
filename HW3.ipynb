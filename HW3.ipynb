{
  "nbformat": 4,
  "nbformat_minor": 0,
  "metadata": {
    "colab": {
      "name": "HW3.ipynb",
      "provenance": [],
      "authorship_tag": "ABX9TyOvZy8CU1aLsgYWcnImqKuT",
      "include_colab_link": true
    },
    "kernelspec": {
      "name": "python3",
      "display_name": "Python 3"
    },
    "language_info": {
      "name": "python"
    }
  },
  "cells": [
    {
      "cell_type": "markdown",
      "metadata": {
        "id": "view-in-github",
        "colab_type": "text"
      },
      "source": [
        "<a href=\"https://colab.research.google.com/github/stories2/Kangnam_ML/blob/main/HW3.ipynb\" target=\"_parent\"><img src=\"https://colab.research.google.com/assets/colab-badge.svg\" alt=\"Open In Colab\"/></a>"
      ]
    },
    {
      "cell_type": "code",
      "execution_count": 1,
      "metadata": {
        "id": "lY3vGFkxpIcC"
      },
      "outputs": [],
      "source": [
        "from sklearn.neighbors import KNeighborsClassifier\n",
        "import numpy as np\n",
        "import matplotlib.pyplot as plt\n",
        "%matplotlib inline"
      ]
    },
    {
      "cell_type": "code",
      "source": [
        " kn=KNeighborsClassifier(n_neighbors=3)"
      ],
      "metadata": {
        "id": "O4G2LT-JpkwQ"
      },
      "execution_count": 2,
      "outputs": []
    },
    {
      "cell_type": "code",
      "source": [
        "data = np.array([val for val in range(1, 11)])\n",
        "data"
      ],
      "metadata": {
        "colab": {
          "base_uri": "https://localhost:8080/"
        },
        "id": "YopUz9K5pmnw",
        "outputId": "4cccb7a5-44bb-48fc-873e-37f63c910984"
      },
      "execution_count": 3,
      "outputs": [
        {
          "output_type": "execute_result",
          "data": {
            "text/plain": [
              "array([ 1,  2,  3,  4,  5,  6,  7,  8,  9, 10])"
            ]
          },
          "metadata": {},
          "execution_count": 3
        }
      ]
    },
    {
      "cell_type": "code",
      "source": [
        "label = np.array([1] * 5 + [0] * 5)\n",
        "label"
      ],
      "metadata": {
        "colab": {
          "base_uri": "https://localhost:8080/"
        },
        "id": "tyMespgPqFli",
        "outputId": "a226c30b-ee19-4958-8321-632468ee8afe"
      },
      "execution_count": 4,
      "outputs": [
        {
          "output_type": "execute_result",
          "data": {
            "text/plain": [
              "array([1, 1, 1, 1, 1, 0, 0, 0, 0, 0])"
            ]
          },
          "metadata": {},
          "execution_count": 4
        }
      ]
    },
    {
      "cell_type": "code",
      "source": [
        "np.random.seed(42)"
      ],
      "metadata": {
        "id": "7Jw35se1qQOX"
      },
      "execution_count": 5,
      "outputs": []
    },
    {
      "cell_type": "code",
      "source": [
        "idx = np.arange(len(data))\n",
        "np.random.shuffle(idx)\n",
        "idx"
      ],
      "metadata": {
        "colab": {
          "base_uri": "https://localhost:8080/"
        },
        "id": "LgTQ1buirziE",
        "outputId": "10d3e110-39ed-4811-fd90-c20801b83ddf"
      },
      "execution_count": 6,
      "outputs": [
        {
          "output_type": "execute_result",
          "data": {
            "text/plain": [
              "array([8, 1, 5, 0, 7, 2, 9, 4, 3, 6])"
            ]
          },
          "metadata": {},
          "execution_count": 6
        }
      ]
    },
    {
      "cell_type": "code",
      "source": [
        "train_x = data[idx[:7]]\n",
        "train_y = label[idx[:7]]\n",
        "test_x = data[idx[7:]]\n",
        "test_y = label[idx[7:]]\n",
        "train_x, train_y, test_x, test_y"
      ],
      "metadata": {
        "colab": {
          "base_uri": "https://localhost:8080/"
        },
        "id": "-uQcvgV_r8kt",
        "outputId": "e9f3840c-8f44-4dd1-be6e-bda41f861034"
      },
      "execution_count": 7,
      "outputs": [
        {
          "output_type": "execute_result",
          "data": {
            "text/plain": [
              "(array([ 9,  2,  6,  1,  8,  3, 10]),\n",
              " array([0, 1, 0, 1, 0, 1, 0]),\n",
              " array([5, 4, 7]),\n",
              " array([1, 1, 0]))"
            ]
          },
          "metadata": {},
          "execution_count": 7
        }
      ]
    },
    {
      "cell_type": "code",
      "source": [
        "plt.scatter(train_x, train_y)\n",
        "plt.scatter(test_x, test_y)\n",
        "plt.xlabel('data')\n",
        "plt.ylabel('label')\n",
        "plt.show()"
      ],
      "metadata": {
        "colab": {
          "base_uri": "https://localhost:8080/",
          "height": 279
        },
        "id": "s-tWVtd4sXhL",
        "outputId": "6a835dac-097c-40a5-c70f-c418b257ff4d"
      },
      "execution_count": 8,
      "outputs": [
        {
          "output_type": "display_data",
          "data": {
            "text/plain": [
              "<Figure size 432x288 with 1 Axes>"
            ],
            "image/png": "[encoded data removed]"
          },
          "metadata": {
            "needs_background": "light"
          }
        }
      ]
    },
    {
      "cell_type": "code",
      "source": [
        "x = np.array([(val, 0) for val in train_x])\n",
        "x.shape, train_y.shape, x"
      ],
      "metadata": {
        "colab": {
          "base_uri": "https://localhost:8080/"
        },
        "id": "5VOyswaCvXra",
        "outputId": "127cfeba-5ced-4b77-e37f-fffbf68cad7e"
      },
      "execution_count": 9,
      "outputs": [
        {
          "output_type": "execute_result",
          "data": {
            "text/plain": [
              "((7, 2), (7,), array([[ 9,  0],\n",
              "        [ 2,  0],\n",
              "        [ 6,  0],\n",
              "        [ 1,  0],\n",
              "        [ 8,  0],\n",
              "        [ 3,  0],\n",
              "        [10,  0]]))"
            ]
          },
          "metadata": {},
          "execution_count": 9
        }
      ]
    },
    {
      "cell_type": "code",
      "source": [
        "kn = kn.fit(np.array([(val, 0) for val in train_x]), train_y)"
      ],
      "metadata": {
        "id": "OfzhbTp0s2Rm"
      },
      "execution_count": 10,
      "outputs": []
    },
    {
      "cell_type": "code",
      "source": [
        "kn.score(np.array([(val, 0) for val in test_x]), test_y)"
      ],
      "metadata": {
        "colab": {
          "base_uri": "https://localhost:8080/"
        },
        "id": "qEE0QLiitNdc",
        "outputId": "0ea049b1-0bb5-4941-d83e-4e388f658d4a"
      },
      "execution_count": 11,
      "outputs": [
        {
          "output_type": "execute_result",
          "data": {
            "text/plain": [
              "0.6666666666666666"
            ]
          },
          "metadata": {},
          "execution_count": 11
        }
      ]
    }
  ]
}