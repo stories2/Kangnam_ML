{
  "nbformat": 4,
  "nbformat_minor": 0,
  "metadata": {
    "colab": {
      "name": "HW6.ipynb",
      "provenance": [],
      "authorship_tag": "ABX9TyM0Q1haTwdZAWeGNeM/oghx",
      "include_colab_link": true
    },
    "kernelspec": {
      "name": "python3",
      "display_name": "Python 3"
    },
    "language_info": {
      "name": "python"
    }
  },
  "cells": [
    {
      "cell_type": "markdown",
      "metadata": {
        "id": "view-in-github",
        "colab_type": "text"
      },
      "source": [
        "<a href=\"https://colab.research.google.com/github/stories2/Kangnam_ML/blob/main/HW6.ipynb\" target=\"_parent\"><img src=\"https://colab.research.google.com/assets/colab-badge.svg\" alt=\"Open In Colab\"/></a>"
      ]
    },
    {
      "cell_type": "code",
      "source": [
        "!pip install mglearn"
      ],
      "metadata": {
        "colab": {
          "base_uri": "https://localhost:8080/"
        },
        "id": "-0rM4UOQ8VVn",
        "outputId": "ef0e1627-48ca-4108-b5f1-3b37d7534fd4"
      },
      "execution_count": 1,
      "outputs": [
        {
          "output_type": "stream",
          "name": "stdout",
          "text": [
            "Collecting mglearn\n",
            "  Downloading mglearn-0.1.9.tar.gz (540 kB)\n",
            "\u001b[?25l\r\u001b[K     |▋                               | 10 kB 24.7 MB/s eta 0:00:01\r\u001b[K     |█▏                              | 20 kB 30.1 MB/s eta 0:00:01\r\u001b[K     |█▉                              | 30 kB 33.8 MB/s eta 0:00:01\r\u001b[K     |██▍                             | 40 kB 24.7 MB/s eta 0:00:01\r\u001b[K     |███                             | 51 kB 7.0 MB/s eta 0:00:01\r\u001b[K     |███▋                            | 61 kB 8.2 MB/s eta 0:00:01\r\u001b[K     |████▎                           | 71 kB 8.2 MB/s eta 0:00:01\r\u001b[K     |████▉                           | 81 kB 9.0 MB/s eta 0:00:01\r\u001b[K     |█████▌                          | 92 kB 10.0 MB/s eta 0:00:01\r\u001b[K     |██████                          | 102 kB 8.7 MB/s eta 0:00:01\r\u001b[K     |██████▊                         | 112 kB 8.7 MB/s eta 0:00:01\r\u001b[K     |███████▎                        | 122 kB 8.7 MB/s eta 0:00:01\r\u001b[K     |███████▉                        | 133 kB 8.7 MB/s eta 0:00:01\r\u001b[K     |████████▌                       | 143 kB 8.7 MB/s eta 0:00:01\r\u001b[K     |█████████                       | 153 kB 8.7 MB/s eta 0:00:01\r\u001b[K     |█████████▊                      | 163 kB 8.7 MB/s eta 0:00:01\r\u001b[K     |██████████▎                     | 174 kB 8.7 MB/s eta 0:00:01\r\u001b[K     |███████████                     | 184 kB 8.7 MB/s eta 0:00:01\r\u001b[K     |███████████▌                    | 194 kB 8.7 MB/s eta 0:00:01\r\u001b[K     |████████████▏                   | 204 kB 8.7 MB/s eta 0:00:01\r\u001b[K     |████████████▊                   | 215 kB 8.7 MB/s eta 0:00:01\r\u001b[K     |█████████████▍                  | 225 kB 8.7 MB/s eta 0:00:01\r\u001b[K     |██████████████                  | 235 kB 8.7 MB/s eta 0:00:01\r\u001b[K     |██████████████▋                 | 245 kB 8.7 MB/s eta 0:00:01\r\u001b[K     |███████████████▏                | 256 kB 8.7 MB/s eta 0:00:01\r\u001b[K     |███████████████▊                | 266 kB 8.7 MB/s eta 0:00:01\r\u001b[K     |████████████████▍               | 276 kB 8.7 MB/s eta 0:00:01\r\u001b[K     |█████████████████               | 286 kB 8.7 MB/s eta 0:00:01\r\u001b[K     |█████████████████▋              | 296 kB 8.7 MB/s eta 0:00:01\r\u001b[K     |██████████████████▏             | 307 kB 8.7 MB/s eta 0:00:01\r\u001b[K     |██████████████████▉             | 317 kB 8.7 MB/s eta 0:00:01\r\u001b[K     |███████████████████▍            | 327 kB 8.7 MB/s eta 0:00:01\r\u001b[K     |████████████████████            | 337 kB 8.7 MB/s eta 0:00:01\r\u001b[K     |████████████████████▋           | 348 kB 8.7 MB/s eta 0:00:01\r\u001b[K     |█████████████████████▎          | 358 kB 8.7 MB/s eta 0:00:01\r\u001b[K     |█████████████████████▉          | 368 kB 8.7 MB/s eta 0:00:01\r\u001b[K     |██████████████████████▌         | 378 kB 8.7 MB/s eta 0:00:01\r\u001b[K     |███████████████████████         | 389 kB 8.7 MB/s eta 0:00:01\r\u001b[K     |███████████████████████▋        | 399 kB 8.7 MB/s eta 0:00:01\r\u001b[K     |████████████████████████▎       | 409 kB 8.7 MB/s eta 0:00:01\r\u001b[K     |████████████████████████▉       | 419 kB 8.7 MB/s eta 0:00:01\r\u001b[K     |█████████████████████████▌      | 430 kB 8.7 MB/s eta 0:00:01\r\u001b[K     |██████████████████████████      | 440 kB 8.7 MB/s eta 0:00:01\r\u001b[K     |██████████████████████████▊     | 450 kB 8.7 MB/s eta 0:00:01\r\u001b[K     |███████████████████████████▎    | 460 kB 8.7 MB/s eta 0:00:01\r\u001b[K     |████████████████████████████    | 471 kB 8.7 MB/s eta 0:00:01\r\u001b[K     |████████████████████████████▌   | 481 kB 8.7 MB/s eta 0:00:01\r\u001b[K     |█████████████████████████████▏  | 491 kB 8.7 MB/s eta 0:00:01\r\u001b[K     |█████████████████████████████▊  | 501 kB 8.7 MB/s eta 0:00:01\r\u001b[K     |██████████████████████████████▍ | 512 kB 8.7 MB/s eta 0:00:01\r\u001b[K     |███████████████████████████████ | 522 kB 8.7 MB/s eta 0:00:01\r\u001b[K     |███████████████████████████████▌| 532 kB 8.7 MB/s eta 0:00:01\r\u001b[K     |████████████████████████████████| 540 kB 8.7 MB/s \n",
            "\u001b[?25hRequirement already satisfied: numpy in /usr/local/lib/python3.7/dist-packages (from mglearn) (1.21.5)\n",
            "Requirement already satisfied: matplotlib in /usr/local/lib/python3.7/dist-packages (from mglearn) (3.2.2)\n",
            "Requirement already satisfied: scikit-learn in /usr/local/lib/python3.7/dist-packages (from mglearn) (1.0.2)\n",
            "Requirement already satisfied: pandas in /usr/local/lib/python3.7/dist-packages (from mglearn) (1.3.5)\n",
            "Requirement already satisfied: pillow in /usr/local/lib/python3.7/dist-packages (from mglearn) (7.1.2)\n",
            "Requirement already satisfied: cycler in /usr/local/lib/python3.7/dist-packages (from mglearn) (0.11.0)\n",
            "Requirement already satisfied: imageio in /usr/local/lib/python3.7/dist-packages (from mglearn) (2.4.1)\n",
            "Requirement already satisfied: joblib in /usr/local/lib/python3.7/dist-packages (from mglearn) (1.1.0)\n",
            "Requirement already satisfied: pyparsing!=2.0.4,!=2.1.2,!=2.1.6,>=2.0.1 in /usr/local/lib/python3.7/dist-packages (from matplotlib->mglearn) (3.0.8)\n",
            "Requirement already satisfied: python-dateutil>=2.1 in /usr/local/lib/python3.7/dist-packages (from matplotlib->mglearn) (2.8.2)\n",
            "Requirement already satisfied: kiwisolver>=1.0.1 in /usr/local/lib/python3.7/dist-packages (from matplotlib->mglearn) (1.4.2)\n",
            "Requirement already satisfied: typing-extensions in /usr/local/lib/python3.7/dist-packages (from kiwisolver>=1.0.1->matplotlib->mglearn) (4.1.1)\n",
            "Requirement already satisfied: six>=1.5 in /usr/local/lib/python3.7/dist-packages (from python-dateutil>=2.1->matplotlib->mglearn) (1.15.0)\n",
            "Requirement already satisfied: pytz>=2017.3 in /usr/local/lib/python3.7/dist-packages (from pandas->mglearn) (2018.9)\n",
            "Requirement already satisfied: threadpoolctl>=2.0.0 in /usr/local/lib/python3.7/dist-packages (from scikit-learn->mglearn) (3.1.0)\n",
            "Requirement already satisfied: scipy>=1.1.0 in /usr/local/lib/python3.7/dist-packages (from scikit-learn->mglearn) (1.4.1)\n",
            "Building wheels for collected packages: mglearn\n",
            "  Building wheel for mglearn (setup.py) ... \u001b[?25l\u001b[?25hdone\n",
            "  Created wheel for mglearn: filename=mglearn-0.1.9-py2.py3-none-any.whl size=582639 sha256=5b48387871d07b1267b03e5f873ae72173e023c1de72db434830b6bbaf0cffb1\n",
            "  Stored in directory: /root/.cache/pip/wheels/f1/17/e1/1720d6dcd70187b6b6c3750cb3508798f2b1d57c9d3214b08b\n",
            "Successfully built mglearn\n",
            "Installing collected packages: mglearn\n",
            "Successfully installed mglearn-0.1.9\n"
          ]
        }
      ]
    },
    {
      "cell_type": "code",
      "source": [
        "from sklearn.neighbors import KNeighborsRegressor\n",
        "from sklearn.linear_model import LinearRegression\n",
        "from sklearn.model_selection import train_test_split\n",
        "import numpy as np\n",
        "import matplotlib.pyplot as plt\n",
        "import mglearn\n",
        "%matplotlib inline"
      ],
      "metadata": {
        "id": "Zacb-loJ8WVM"
      },
      "execution_count": 34,
      "outputs": []
    },
    {
      "cell_type": "code",
      "source": [
        "x, y = mglearn.datasets.make_wave(n_samples=100)"
      ],
      "metadata": {
        "id": "rg2sGxWH8aGl"
      },
      "execution_count": 35,
      "outputs": []
    },
    {
      "cell_type": "code",
      "source": [
        "train_input, test_input, train_target, test_target = train_test_split(x, y, train_size=0.7, random_state=1004)"
      ],
      "metadata": {
        "id": "VueeUein8kTU"
      },
      "execution_count": 36,
      "outputs": []
    },
    {
      "cell_type": "code",
      "source": [
        "knr = KNeighborsRegressor(n_jobs=3)\n",
        "knr.fit(train_input, train_target)"
      ],
      "metadata": {
        "colab": {
          "base_uri": "https://localhost:8080/"
        },
        "id": "yu3wsU1g_mIz",
        "outputId": "b605f644-3b0a-47ed-877e-df3375c91313"
      },
      "execution_count": 37,
      "outputs": [
        {
          "output_type": "execute_result",
          "data": {
            "text/plain": [
              "KNeighborsRegressor(n_jobs=3)"
            ]
          },
          "metadata": {},
          "execution_count": 37
        }
      ]
    },
    {
      "cell_type": "code",
      "source": [
        "plt.plot(train_input,train_target, '^')\n",
        "plt.plot(test_input, test_target, 'v')\n",
        "plt.title(\"K={}. train score:{:.2f}, test score:{:.2f}\".format(\n",
        "     knr.n_neighbors, knr.score(train_input, train_target), knr.score(test_input, test_target)))\n",
        "plt.show()"
      ],
      "metadata": {
        "colab": {
          "base_uri": "https://localhost:8080/",
          "height": 281
        },
        "id": "4CJ19nyj_qnN",
        "outputId": "74752d50-a538-4682-eaff-dddf4a68d8ee"
      },
      "execution_count": 38,
      "outputs": [
        {
          "output_type": "display_data",
          "data": {
            "text/plain": [
              "<Figure size 432x288 with 1 Axes>"
            ],
            "image/png": "[encoded data removed]"
          },
          "metadata": {
            "needs_background": "light"
          }
        }
      ]
    },
    {
      "cell_type": "code",
      "source": [
        "lr = LinearRegression()\n",
        "lr.fit(train_input, train_target)"
      ],
      "metadata": {
        "colab": {
          "base_uri": "https://localhost:8080/"
        },
        "id": "ljVW37QPBJES",
        "outputId": "164654c1-51c7-45d6-f488-3c3a833cb904"
      },
      "execution_count": 39,
      "outputs": [
        {
          "output_type": "execute_result",
          "data": {
            "text/plain": [
              "LinearRegression()"
            ]
          },
          "metadata": {},
          "execution_count": 39
        }
      ]
    },
    {
      "cell_type": "code",
      "source": [
        "plt.plot(train_input,train_target, '^')\n",
        "plt.plot(test_input, test_target, 'v')\n",
        "plt.plot([-3, 3], [-3 * lr.coef_ + lr.intercept_, 3 * lr.coef_ + lr.intercept_])\n",
        "\n",
        "plt.title(\"train score:{:.2f}, test score:{:.2f}\".format(\n",
        "     lr.score(train_input, train_target), lr.score(test_input, test_target)))\n",
        "plt.show()"
      ],
      "metadata": {
        "colab": {
          "base_uri": "https://localhost:8080/",
          "height": 281
        },
        "id": "mMY9U9QABZbX",
        "outputId": "9d816052-91ee-4f46-8d26-8a7ed758c880"
      },
      "execution_count": 40,
      "outputs": [
        {
          "output_type": "display_data",
          "data": {
            "text/plain": [
              "<Figure size 432x288 with 1 Axes>"
            ],
            "image/png": "[encoded data removed]"
          },
          "metadata": {
            "needs_background": "light"
          }
        }
      ]
    },
    {
      "cell_type": "code",
      "source": [
        "train_poly = np.column_stack((train_input ** 2, train_input))\n",
        "test_poly = np.column_stack((test_input ** 2, test_input))\n",
        "\n",
        "train_poly[:2], test_poly[:2]"
      ],
      "metadata": {
        "colab": {
          "base_uri": "https://localhost:8080/"
        },
        "id": "Oe5zDzsEEjN8",
        "outputId": "a3fe206e-df58-4516-fc10-155846caeab8"
      },
      "execution_count": 41,
      "outputs": [
        {
          "output_type": "execute_result",
          "data": {
            "text/plain": [
              "(array([[ 1.37432805, -1.17231738],\n",
              "        [ 7.03044338, -2.65149833]]), array([[1.22190509, 1.10539816],\n",
              "        [0.35040587, 0.59195091]]))"
            ]
          },
          "metadata": {},
          "execution_count": 41
        }
      ]
    },
    {
      "cell_type": "code",
      "source": [
        "lr2 = LinearRegression()\n",
        "lr2.fit(train_poly, train_target)"
      ],
      "metadata": {
        "colab": {
          "base_uri": "https://localhost:8080/"
        },
        "id": "RU3TNTsXIn02",
        "outputId": "0d68c6af-ba68-4dbb-8e2b-49eb14c4d9c9"
      },
      "execution_count": 42,
      "outputs": [
        {
          "output_type": "execute_result",
          "data": {
            "text/plain": [
              "LinearRegression()"
            ]
          },
          "metadata": {},
          "execution_count": 42
        }
      ]
    },
    {
      "cell_type": "code",
      "source": [
        "point = np.arange(-3, 3)\n",
        "plt.plot(train_input,train_target, '^')\n",
        "plt.plot(test_input, test_target, 'v')\n",
        "plt.plot(point, lr2.coef_[0] * point ** 2 + lr2.coef_[1] * point + lr2.intercept_)\n",
        "\n",
        "plt.title(\"train score:{:.2f}, test score:{:.2f}\".format(\n",
        "     lr2.score(train_poly, train_target), lr2.score(test_poly, test_target)))\n",
        "plt.show()"
      ],
      "metadata": {
        "colab": {
          "base_uri": "https://localhost:8080/",
          "height": 281
        },
        "id": "84Vfo_ZSFysG",
        "outputId": "3367d113-e5e9-4c39-ef21-9277143a175e"
      },
      "execution_count": 43,
      "outputs": [
        {
          "output_type": "display_data",
          "data": {
            "text/plain": [
              "<Figure size 432x288 with 1 Axes>"
            ],
            "image/png": "[encoded data removed]"
          },
          "metadata": {
            "needs_background": "light"
          }
        }
      ]
    },
    {
      "cell_type": "markdown",
      "source": [
        "## 실험 조건(환경)을 자세히 기술하시요.\n",
        "\n",
        "- wave 데이터 100개 생성 후 학습, 테스트 데이터 분리\n",
        "- KNR의 n = 3, 일차 회귀 분석, 이차 회귀 \b분석 예측\n",
        "\n",
        "## 어느 회귀 모델이 최고인가? 각자 결론을 내리고 이유를 적으시오(논하시오)\n",
        "\n",
        "KNR 이 가장 좋은 회귀 모델이라 생각합니다.\n",
        "\n",
        "회귀 예측을 하기에는 데이터의 속성이 규칙적이지 않고 랜덤으로 퍼져있어 \n",
        "\n",
        "가까운 이웃을 이용해 예측을 하는 알고리즘이 더 우수한 결과를 반환하기 때문입니다."
      ],
      "metadata": {
        "id": "1F7VIcRyOcDF"
      }
    },
    {
      "cell_type": "code",
      "execution_count": 44,
      "metadata": {
        "id": "O_yi05fI8P--"
      },
      "outputs": [],
      "source": [
        "perch_length = np.array([8.4, 13.7, 15.0, 16.2, 17.4, 18.0, 18.7, 19.0, 19.6, 20.0, 21.0,\n",
        "       21.0, 21.0, 21.3, 22.0, 22.0, 22.0, 22.0, 22.0, 22.5, 22.5, 22.7,\n",
        "       23.0, 23.5, 24.0, 24.0, 24.6, 25.0, 25.6, 26.5, 27.3, 27.5, 27.5,\n",
        "       27.5, 28.0, 28.7, 30.0, 32.8, 34.5, 35.0, 36.5, 36.0, 37.0, 37.0,\n",
        "       39.0, 39.0, 39.0, 40.0, 40.0, 40.0, 40.0, 42.0, 43.0, 43.0, 43.5,\n",
        "       44.0])\n",
        "perch_weight = np.array([5.9, 32.0, 40.0, 51.5, 70.0, 100.0, 78.0, 80.0, 85.0, 85.0, 110.0,\n",
        "       115.0, 125.0, 130.0, 120.0, 120.0, 130.0, 135.0, 110.0, 130.0,\n",
        "       150.0, 145.0, 150.0, 170.0, 225.0, 145.0, 188.0, 180.0, 197.0,\n",
        "       218.0, 300.0, 260.0, 265.0, 250.0, 250.0, 300.0, 320.0, 514.0,\n",
        "       556.0, 840.0, 685.0, 700.0, 700.0, 690.0, 900.0, 650.0, 820.0,\n",
        "       850.0, 900.0, 1015.0, 820.0, 1100.0, 1000.0, 1100.0, 1000.0,\n",
        "       1000.0])"
      ]
    },
    {
      "cell_type": "code",
      "source": [
        "train_input, test_input, train_target, test_target = train_test_split(perch_length, perch_weight, train_size=0.7, random_state=1004)"
      ],
      "metadata": {
        "id": "60l3B0wX_xMb"
      },
      "execution_count": 45,
      "outputs": []
    },
    {
      "cell_type": "code",
      "source": [
        "train_input = train_input.reshape(-1, 1)\n",
        "test_input = test_input.reshape(-1, 1)"
      ],
      "metadata": {
        "id": "YpIVs5yaKRND"
      },
      "execution_count": 46,
      "outputs": []
    },
    {
      "cell_type": "code",
      "source": [
        "knr = KNeighborsRegressor(n_jobs=3)\n",
        "knr.fit(train_input, train_target)"
      ],
      "metadata": {
        "colab": {
          "base_uri": "https://localhost:8080/"
        },
        "id": "Ruxifq53J_zH",
        "outputId": "e573ef40-4690-42b8-8984-566efeb71272"
      },
      "execution_count": 47,
      "outputs": [
        {
          "output_type": "execute_result",
          "data": {
            "text/plain": [
              "KNeighborsRegressor(n_jobs=3)"
            ]
          },
          "metadata": {},
          "execution_count": 47
        }
      ]
    },
    {
      "cell_type": "code",
      "source": [
        "plt.plot(train_input,train_target, '^')\n",
        "plt.plot(test_input, test_target, 'v')\n",
        "plt.title(\"K={}. train score:{:.2f}, test score:{:.2f}\".format(\n",
        "     knr.n_neighbors, knr.score(train_input, train_target), knr.score(test_input, test_target)))\n",
        "plt.show()"
      ],
      "metadata": {
        "colab": {
          "base_uri": "https://localhost:8080/",
          "height": 281
        },
        "id": "mxxPgQRwKDjY",
        "outputId": "0b3a8b53-32a4-4bc8-818a-0d5a0cae53bf"
      },
      "execution_count": 48,
      "outputs": [
        {
          "output_type": "display_data",
          "data": {
            "text/plain": [
              "<Figure size 432x288 with 1 Axes>"
            ],
            "image/png": "[encoded data removed]"
          },
          "metadata": {
            "needs_background": "light"
          }
        }
      ]
    },
    {
      "cell_type": "code",
      "source": [
        "lr = LinearRegression()\n",
        "lr.fit(train_input, train_target)"
      ],
      "metadata": {
        "colab": {
          "base_uri": "https://localhost:8080/"
        },
        "id": "0iq_hKJdKNr9",
        "outputId": "b6b59fbc-869a-48c1-d6ef-e9587110fc45"
      },
      "execution_count": 49,
      "outputs": [
        {
          "output_type": "execute_result",
          "data": {
            "text/plain": [
              "LinearRegression()"
            ]
          },
          "metadata": {},
          "execution_count": 49
        }
      ]
    },
    {
      "cell_type": "code",
      "source": [
        "plt.plot(train_input,train_target, '^')\n",
        "plt.plot(test_input, test_target, 'v')\n",
        "plt.plot([perch_length.min(), perch_length.max()], [perch_length.min() * lr.coef_ + lr.intercept_, perch_length.max() * lr.coef_ + lr.intercept_])\n",
        "\n",
        "plt.title(\"train score:{:.2f}, test score:{:.2f}\".format(\n",
        "     lr.score(train_input, train_target), lr.score(test_input, test_target)))\n",
        "plt.show()"
      ],
      "metadata": {
        "colab": {
          "base_uri": "https://localhost:8080/",
          "height": 281
        },
        "id": "F_mKSHWVK80C",
        "outputId": "3c59d33c-c6ff-49f6-c516-d901696ddc7a"
      },
      "execution_count": 50,
      "outputs": [
        {
          "output_type": "display_data",
          "data": {
            "text/plain": [
              "<Figure size 432x288 with 1 Axes>"
            ],
            "image/png": "[encoded data removed]"
          },
          "metadata": {
            "needs_background": "light"
          }
        }
      ]
    },
    {
      "cell_type": "code",
      "source": [
        "train_poly = np.column_stack((train_input ** 2, train_input))\n",
        "test_poly = np.column_stack((test_input ** 2, test_input))"
      ],
      "metadata": {
        "id": "CO5nBDuGK-ug"
      },
      "execution_count": 51,
      "outputs": []
    },
    {
      "cell_type": "code",
      "source": [
        "lr2 = LinearRegression()\n",
        "lr2.fit(train_poly, train_target)"
      ],
      "metadata": {
        "colab": {
          "base_uri": "https://localhost:8080/"
        },
        "id": "UF_bis7BLVQg",
        "outputId": "288e7f8b-bab4-4b43-cf48-fd333baeb71b"
      },
      "execution_count": 52,
      "outputs": [
        {
          "output_type": "execute_result",
          "data": {
            "text/plain": [
              "LinearRegression()"
            ]
          },
          "metadata": {},
          "execution_count": 52
        }
      ]
    },
    {
      "cell_type": "code",
      "source": [
        "point = np.arange(perch_length.min(), perch_length.max())\n",
        "plt.plot(train_input,train_target, '^')\n",
        "plt.plot(test_input, test_target, 'v')\n",
        "plt.plot(point, lr2.coef_[0] * point ** 2 + lr2.coef_[1] * point + lr2.intercept_)\n",
        "\n",
        "plt.title(\"train score:{:.2f}, test score:{:.2f}\".format(\n",
        "     lr2.score(train_poly, train_target), lr2.score(test_poly, test_target)))\n",
        "plt.show()"
      ],
      "metadata": {
        "colab": {
          "base_uri": "https://localhost:8080/",
          "height": 281
        },
        "id": "lYV_K8OmLZcQ",
        "outputId": "2ebad7c5-9d17-4457-d8a5-3aa4e8d20d15"
      },
      "execution_count": 54,
      "outputs": [
        {
          "output_type": "display_data",
          "data": {
            "text/plain": [
              "<Figure size 432x288 with 1 Axes>"
            ],
            "image/png": "[encoded data removed]"
          },
          "metadata": {
            "needs_background": "light"
          }
        }
      ]
    },
    {
      "cell_type": "markdown",
      "source": [
        "## 실험 조건(환경)을 자세히 기술하시요.\n",
        "\n",
        "- 농어 데이터 100개 생성 후 학습, 테스트 데이터 분리\n",
        "- KNR의 n = 3, 일차 회귀 분석, 이차 회귀 분석 예측\n",
        "\n",
        "## 어느 회귀 모델이 최고인가? 각자 결론을 내리고 이유를 적으시오(논하시오)\n",
        "\n",
        "이차 회귀 분석이 가장 좋은 모델이라 생각합니다. \n",
        "\n",
        "데이터 시각화를 한 결과 무게가 증가할 수록 길이의 증가량이 급격하게 높아졌고 이는 이차 방정식 형태를 띠우고 있기 때문입니다.\n",
        "\n",
        "또한 실제로 예측 결과가 이차 회귀 직선이 더 높았습니다."
      ],
      "metadata": {
        "id": "a_ttcWUZPdgq"
      }
    },
    {
      "cell_type": "code",
      "source": [
        ""
      ],
      "metadata": {
        "id": "vPBUzib4QIP0"
      },
      "execution_count": null,
      "outputs": []
    }
  ]
}