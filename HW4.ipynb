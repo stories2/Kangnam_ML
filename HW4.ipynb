{
  "nbformat": 4,
  "nbformat_minor": 0,
  "metadata": {
    "colab": {
      "name": "HW4",
      "provenance": []
    },
    "kernelspec": {
      "name": "python3",
      "display_name": "Python 3"
    },
    "language_info": {
      "name": "python"
    }
  },
  "cells": [
    {
      "cell_type": "code",
      "execution_count": 1,
      "metadata": {
        "id": "lY3vGFkxpIcC"
      },
      "outputs": [],
      "source": [
        "from sklearn.neighbors import KNeighborsClassifier\n",
        "from sklearn.model_selection import train_test_split\n",
        "import numpy as np\n",
        "import matplotlib.pyplot as plt\n",
        "%matplotlib inline"
      ]
    },
    {
      "cell_type": "code",
      "source": [
        "data = np.array([[np.float(val)] for val in range(1, 11)])\n",
        "data"
      ],
      "metadata": {
        "colab": {
          "base_uri": "https://localhost:8080/"
        },
        "id": "YopUz9K5pmnw",
        "outputId": "b9996f3a-d97c-4aaf-e4dd-fc3bb599e64c"
      },
      "execution_count": 2,
      "outputs": [
        {
          "output_type": "stream",
          "name": "stderr",
          "text": [
            "/usr/local/lib/python3.7/dist-packages/ipykernel_launcher.py:1: DeprecationWarning: `np.float` is a deprecated alias for the builtin `float`. To silence this warning, use `float` by itself. Doing this will not modify any behavior and is safe. If you specifically wanted the numpy scalar type, use `np.float64` here.\n",
            "Deprecated in NumPy 1.20; for more details and guidance: https://numpy.org/devdocs/release/1.20.0-notes.html#deprecations\n",
            "  \"\"\"Entry point for launching an IPython kernel.\n"
          ]
        },
        {
          "output_type": "execute_result",
          "data": {
            "text/plain": [
              "array([[ 1.],\n",
              "       [ 2.],\n",
              "       [ 3.],\n",
              "       [ 4.],\n",
              "       [ 5.],\n",
              "       [ 6.],\n",
              "       [ 7.],\n",
              "       [ 8.],\n",
              "       [ 9.],\n",
              "       [10.]])"
            ]
          },
          "metadata": {},
          "execution_count": 2
        }
      ]
    },
    {
      "cell_type": "code",
      "source": [
        "label = np.concatenate((np.zeros(5), np.ones(5)))\n",
        "label"
      ],
      "metadata": {
        "colab": {
          "base_uri": "https://localhost:8080/"
        },
        "id": "tyMespgPqFli",
        "outputId": "91542dfe-8c88-4192-9c76-4bda0503ad57"
      },
      "execution_count": 3,
      "outputs": [
        {
          "output_type": "execute_result",
          "data": {
            "text/plain": [
              "array([0., 0., 0., 0., 0., 1., 1., 1., 1., 1.])"
            ]
          },
          "metadata": {},
          "execution_count": 3
        }
      ]
    },
    {
      "cell_type": "code",
      "source": [
        "train_x, test_x, train_y, test_y = train_test_split(data, label, stratify=label, train_size=0.7)\n",
        "train_x, test_x, train_y, test_y"
      ],
      "metadata": {
        "colab": {
          "base_uri": "https://localhost:8080/"
        },
        "id": "LgTQ1buirziE",
        "outputId": "1c89a0c1-526a-4c50-d983-2aed25c393d2"
      },
      "execution_count": 14,
      "outputs": [
        {
          "output_type": "execute_result",
          "data": {
            "text/plain": [
              "(array([[ 6.],\n",
              "        [ 5.],\n",
              "        [ 1.],\n",
              "        [ 9.],\n",
              "        [ 8.],\n",
              "        [ 3.],\n",
              "        [10.]]), array([[2.],\n",
              "        [4.],\n",
              "        [7.]]), array([1., 0., 0., 1., 1., 0., 1.]), array([0., 0., 1.]))"
            ]
          },
          "metadata": {},
          "execution_count": 14
        }
      ]
    },
    {
      "cell_type": "code",
      "source": [
        "plt.scatter(train_x, train_y)\n",
        "plt.scatter(test_x, test_y)\n",
        "plt.xlabel('data')\n",
        "plt.ylabel('label')\n",
        "plt.show()"
      ],
      "metadata": {
        "colab": {
          "base_uri": "https://localhost:8080/",
          "height": 279
        },
        "id": "s-tWVtd4sXhL",
        "outputId": "0fcf6f55-b0d5-4442-d24c-9f321dd12a8a"
      },
      "execution_count": 15,
      "outputs": [
        {
          "output_type": "display_data",
          "data": {
            "text/plain": [
              "<Figure size 432x288 with 1 Axes>"
            ],
            "image/png": "[encoded data removed]"
          },
          "metadata": {
            "needs_background": "light"
          }
        }
      ]
    },
    {
      "cell_type": "code",
      "source": [
        "def KNeighbor(train_x, train_y, test_x, test_y, n = 3):\n",
        "  kn=KNeighborsClassifier(n_neighbors=n)\n",
        "  kn = kn.fit(train_x, train_y)\n",
        "  return kn.score(test_x, test_y)"
      ],
      "metadata": {
        "id": "vOHqUAwr9fpn"
      },
      "execution_count": 32,
      "outputs": []
    },
    {
      "cell_type": "code",
      "source": [
        "kn3 = [KNeighbor(train_x, train_y, test_x, test_y, 3) for i in range(0, 1000)]"
      ],
      "metadata": {
        "id": "l0qhJI66-fBa"
      },
      "execution_count": 34,
      "outputs": []
    },
    {
      "cell_type": "code",
      "source": [
        "np.mean(kn3), np.std(kn3)"
      ],
      "metadata": {
        "colab": {
          "base_uri": "https://localhost:8080/"
        },
        "id": "1WYVW_f--mnS",
        "outputId": "7dd43568-dd7f-4185-f2e8-afb7c56ec2d9"
      },
      "execution_count": 36,
      "outputs": [
        {
          "output_type": "execute_result",
          "data": {
            "text/plain": [
              "(1.0, 0.0)"
            ]
          },
          "metadata": {},
          "execution_count": 36
        }
      ]
    },
    {
      "cell_type": "code",
      "source": [
        "kn5 = [KNeighbor(train_x, train_y, test_x, test_y, 5) for i in range(0, 1000)]"
      ],
      "metadata": {
        "id": "QkapH0Dg-6_X"
      },
      "execution_count": 37,
      "outputs": []
    },
    {
      "cell_type": "code",
      "source": [
        "np.mean(kn5), np.std(kn5)"
      ],
      "metadata": {
        "id": "nSXd8ECF_AjW",
        "outputId": "8f7c1dab-d476-4e8f-c976-1e638faeca5c",
        "colab": {
          "base_uri": "https://localhost:8080/"
        }
      },
      "execution_count": 38,
      "outputs": [
        {
          "output_type": "execute_result",
          "data": {
            "text/plain": [
              "(1.0, 0.0)"
            ]
          },
          "metadata": {},
          "execution_count": 38
        }
      ]
    },
    {
      "cell_type": "code",
      "source": [
        ""
      ],
      "metadata": {
        "id": "Oki5IWQA_CJi"
      },
      "execution_count": null,
      "outputs": []
    }
  ]
}